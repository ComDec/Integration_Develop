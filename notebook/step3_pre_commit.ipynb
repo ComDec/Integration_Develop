{
 "cells": [
  {
   "attachments": {},
   "cell_type": "markdown",
   "metadata": {},
   "source": [
    "# Pre-Commit"
   ]
  },
  {
   "attachments": {},
   "cell_type": "markdown",
   "metadata": {},
   "source": [
    "在对本地存储库执行提交之前，待办事项列表上有很多项目，从样式、格式化、测试等。很容易忘记其中的一些步骤，尤其是当想要“推送到快速解决”。为了帮助管理所有这些重要步骤，可以使用预提交钩子，当尝试执行提交时，它会自动触发。"
   ]
  },
  {
   "attachments": {},
   "cell_type": "markdown",
   "metadata": {},
   "source": [
    "## Installation"
   ]
  },
  {
   "cell_type": "code",
   "execution_count": 3,
   "metadata": {},
   "outputs": [
    {
     "name": "stdout",
     "output_type": "stream",
     "text": [
      "pre-commit installed at .git/hooks/pre-commit\n"
     ]
    }
   ],
   "source": [
    "! pip -qqq install pre-commit\n",
    "! pre-commit install"
   ]
  },
  {
   "attachments": {},
   "cell_type": "markdown",
   "metadata": {},
   "source": [
    "## Div into a pre-commit-config.yaml example"
   ]
  },
  {
   "attachments": {},
   "cell_type": "markdown",
   "metadata": {},
   "source": [
    "```yaml\n",
    "# 设置默认的Python语言\n",
    "default_language_version:\n",
    "  python: python3\n",
    "# repos是config的核心部分，包括repo为仓库地址，rev为软件版本\n",
    "# repos里面的hooks里面主要包括三个部分，id，args合files；\n",
    "# id是软件的唯一名称，args是使用的参数\n",
    "# pre-commit会将每一个文件送到id对应的文件中，files是制定某个目录，直将该目录下文件送入hook中\n",
    "repos:\n",
    "  - repo: https://github.com/PSF/black\n",
    "    rev: 23.3.0\n",
    "    hooks:\n",
    "      - id: black\n",
    "        args: [--safe, --quiet]\n",
    "  - repo: https://github.com/PyCQA/isort\n",
    "    rev: 5.12.0\n",
    "    hooks:\n",
    "      - id: isort\n",
    "        name: isort\n",
    "  - repo: https://github.com/PyCQA/flake8\n",
    "    rev: 6.0.0\n",
    "    hooks:\n",
    "      - id: flake8\n",
    "        additional_dependencies:\n",
    "          - flake8-bugbear\n",
    "          - flake8-comprehensions\n",
    "          - flake8-simplify\n",
    "  - repo: https://github.com/asottile/pyupgrade\n",
    "    rev: v3.7.0\n",
    "    hooks:\n",
    "      - id: pyupgrade\n",
    "        args: [--py37-plus]\n",
    "  - repo: https://github.com/tox-dev/pyproject-fmt\n",
    "    rev: 0.12.1\n",
    "    hooks:\n",
    "      - id: pyproject-fmt\n",
    "  - repo: https://github.com/pre-commit/mirrors-mypy\n",
    "    rev: v1.4.0\n",
    "    hooks:\n",
    "      - id: mypy\n",
    "        # files: []\n",
    "  - repo: https://github.com/codespell-project/codespell\n",
    "    rev: v2.2.1\n",
    "    hooks:\n",
    "      - id: codespell\n",
    "        args: [--ignore-words=.codespell-whitelist.txt]\n",
    "  - repo: https://github.com/pre-commit/mirrors-prettier\n",
    "    rev: v3.0.0-alpha.9-for-vscode\n",
    "    hooks:\n",
    "      - id: prettier\n",
    "  - repo: https://github.com/pre-commit/pre-commit-hooks\n",
    "    rev: v4.4.0\n",
    "    hooks:\n",
    "      - id: check-merge-conflict\n",
    "      - id: check-yaml\n",
    "        # files: []\n",
    "      - id: debug-statements\n",
    "      - id: end-of-file-fixer\n",
    "      - id: fix-encoding-pragma\n",
    "        args: [\"--remove\"]\n",
    "      - id: mixed-line-ending\n",
    "        args: [\"--fix=lf\"]\n",
    "      - id: requirements-txt-fixer\n",
    "      - id: trailing-whitespace"
   ]
  },
  {
   "attachments": {},
   "cell_type": "markdown",
   "metadata": {},
   "source": [
    "## 运行pre-commit"
   ]
  },
  {
   "cell_type": "code",
   "execution_count": 5,
   "metadata": {},
   "outputs": [
    {
     "name": "stdout",
     "output_type": "stream",
     "text": [
      "black................................................(no files to check)\u001b[46;30mSkipped\u001b[m\n",
      "isort................................................(no files to check)\u001b[46;30mSkipped\u001b[m\n",
      "flake8...............................................(no files to check)\u001b[46;30mSkipped\u001b[m\n",
      "pyupgrade............................................(no files to check)\u001b[46;30mSkipped\u001b[m\n",
      "pyproject-fmt........................................(no files to check)\u001b[46;30mSkipped\u001b[m\n",
      "mypy.................................................(no files to check)\u001b[46;30mSkipped\u001b[m\n",
      "codespell................................................................\u001b[42mPassed\u001b[m\n",
      "prettier.................................................................\u001b[42mPassed\u001b[m\n",
      "check for merge conflicts................................................\u001b[42mPassed\u001b[m\n",
      "check yaml...........................................(no files to check)\u001b[46;30mSkipped\u001b[m\n",
      "debug statements (python)............................(no files to check)\u001b[46;30mSkipped\u001b[m\n",
      "fix end of files.........................................................\u001b[42mPassed\u001b[m\n",
      "fix python encoding pragma...........................(no files to check)\u001b[46;30mSkipped\u001b[m\n",
      "mixed line ending........................................................\u001b[42mPassed\u001b[m\n",
      "fix requirements.txt.................................(no files to check)\u001b[46;30mSkipped\u001b[m\n",
      "trim trailing whitespace.................................................\u001b[42mPassed\u001b[m\n"
     ]
    }
   ],
   "source": [
    "!pre-commit run --all-files"
   ]
  }
 ],
 "metadata": {
  "kernelspec": {
   "display_name": "torch",
   "language": "python",
   "name": "python3"
  },
  "language_info": {
   "codemirror_mode": {
    "name": "ipython",
    "version": 3
   },
   "file_extension": ".py",
   "mimetype": "text/x-python",
   "name": "python",
   "nbconvert_exporter": "python",
   "pygments_lexer": "ipython3",
   "version": "3.10.9"
  },
  "orig_nbformat": 4
 },
 "nbformat": 4,
 "nbformat_minor": 2
}
