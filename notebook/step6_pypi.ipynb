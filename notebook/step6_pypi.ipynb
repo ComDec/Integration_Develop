{
 "cells": [
  {
   "attachments": {},
   "cell_type": "markdown",
   "metadata": {},
   "source": [
    "# Prepare for release your package"
   ]
  },
  {
   "attachments": {},
   "cell_type": "markdown",
   "metadata": {},
   "source": [
    "## Before release"
   ]
  },
  {
   "attachments": {},
   "cell_type": "markdown",
   "metadata": {},
   "source": [
    "For a common python package, your code tree will look like:"
   ]
  },
  {
   "attachments": {},
   "cell_type": "markdown",
   "metadata": {},
   "source": [
    "```\n",
    ".\n",
    "└── py_pkg\n",
    "    ├── LICENSE\n",
    "    ├── README.md\n",
    "    ├── py_pkg\n",
    "    │   ├── __init__.py\n",
    "    │   └── something.py\n",
    "    ├── pyproject.toml\n",
    "    ├── setup.cfg\n",
    "    └── tests\n",
    "```"
   ]
  },
  {
   "attachments": {},
   "cell_type": "markdown",
   "metadata": {},
   "source": [
    "For each file, you should do the following things."
   ]
  },
  {
   "attachments": {},
   "cell_type": "markdown",
   "metadata": {},
   "source": [
    "In `py_pkg/__init__.py`, you are supposed to write:"
   ]
  },
  {
   "cell_type": "code",
   "execution_count": 1,
   "metadata": {},
   "outputs": [],
   "source": [
    "# write your package name here\n",
    "name = 'py_pkg'"
   ]
  },
  {
   "attachments": {},
   "cell_type": "markdown",
   "metadata": {},
   "source": [
    "In previous notebook, we have already introuced `pyproject.toml`, a new standard for building python package. Before that, you need two different files to save your package information: `setup.py` for dynamic metadata and `setup.cfg` for static metadata. "
   ]
  },
  {
   "attachments": {},
   "cell_type": "markdown",
   "metadata": {},
   "source": [
    "An example for `setup.cfg` file:\n",
    "```\n",
    "[metadata]\n",
    "name = py_pkg\n",
    "version = 0.0.1\n",
    "author = xx\n",
    "author_email = xx@xx.come\n",
    "description = A small example package\n",
    "long_description = file: README.md\n",
    "long_description_content_type = text/markdown\n",
    "url = https://github.com/xx/xx\n",
    "classifiers =\n",
    "    Programming Language :: Python :: 3\n",
    "    License :: OSI Approved :: MIT License\n",
    "    Operating System :: OS Independent\n",
    "\n",
    "[options]\n",
    "packages = find:\n",
    "python_requires = >=3.6\n",
    "```"
   ]
  },
  {
   "attachments": {},
   "cell_type": "markdown",
   "metadata": {},
   "source": [
    "for `setup.py` file, you can write the similar parameters in `setup.cfg`."
   ]
  },
  {
   "attachments": {},
   "cell_type": "markdown",
   "metadata": {},
   "source": [
    "```python\n",
    "import setuptools\n",
    "\n",
    "with open(\"README.md\", \"r\", encoding=\"utf-8\") as fh:\n",
    "    long_description = fh.read()\n",
    "\n",
    "setuptools.setup(\n",
    "    name=\"py-pkg\",\n",
    "    version=\"0.0.1\",\n",
    "    author=\"xx\",\n",
    "    author_email=\"xx@xx.com\",\n",
    "    description=\"A small example package\",\n",
    "    long_description=long_description,\n",
    "    long_description_content_type=\"text/markdown\",\n",
    "    url=\"xx\",\n",
    "    classifiers=[\n",
    "        \"Programming Language :: Python :: 3\",\n",
    "        \"License :: OSI Approved :: MIT License\",\n",
    "        \"Operating System :: OS Independent\",\n",
    "    ],\n",
    "    packages=setuptools.find_packages(),\n",
    "    python_requires='>=3.8',\n",
    ")\n",
    "\n",
    "```"
   ]
  },
  {
   "attachments": {},
   "cell_type": "markdown",
   "metadata": {},
   "source": [
    "## Manually package and release"
   ]
  },
  {
   "attachments": {},
   "cell_type": "markdown",
   "metadata": {},
   "source": [
    "For package upload to pypi, you must add `README.md` and `LICENSE` into your code."
   ]
  },
  {
   "attachments": {},
   "cell_type": "markdown",
   "metadata": {},
   "source": [
    "### Generate dist package"
   ]
  },
  {
   "cell_type": "code",
   "execution_count": 4,
   "metadata": {},
   "outputs": [],
   "source": [
    "! pip -qqq install --upgrade build"
   ]
  },
  {
   "cell_type": "code",
   "execution_count": 5,
   "metadata": {},
   "outputs": [
    {
     "name": "stdout",
     "output_type": "stream",
     "text": [
      "\u001b[1m* Creating virtualenv isolated environment...\u001b[0m\n",
      "\u001b[2;36m[09/08/23 02:25:43]\u001b[0m\u001b[2;36m \u001b[0m\u001b[1;31mERROR   \u001b[0m pyproject.toml does not contain a \u001b]8;id=914157;file:///home/wangxi/mambaforge-pypy3/envs/torch/lib/python3.10/site-packages/setuptools_scm/_integration/setuptools.py\u001b\\\u001b[2msetuptools.py\u001b[0m\u001b]8;;\u001b\\\u001b[2m:\u001b[0m\u001b]8;id=324795;file:///home/wangxi/mambaforge-pypy3/envs/torch/lib/python3.10/site-packages/setuptools_scm/_integration/setuptools.py#119\u001b\\\u001b[2m119\u001b[0m\u001b]8;;\u001b\\\n",
      "\u001b[2;36m                    \u001b[0m         tool.setuptools_scm section       \u001b[2m                 \u001b[0m\n",
      "\u001b[2;36m                    \u001b[0m         Traceback \u001b[1m(\u001b[0mmost recent call       \u001b[2m                 \u001b[0m\n",
      "\u001b[2;36m                    \u001b[0m         last\u001b[1m)\u001b[0m:                            \u001b[2m                 \u001b[0m\n",
      "\u001b[2;36m                    \u001b[0m           File                            \u001b[2m                 \u001b[0m\n",
      "\u001b[2;36m                    \u001b[0m         \u001b[32m\"/home/wangxi/mambaforge-pypy3/en\u001b[0m \u001b[2m                 \u001b[0m\n",
      "\u001b[2;36m                    \u001b[0m         \u001b[32mvs/torch/lib/python3.10/site-pack\u001b[0m \u001b[2m                 \u001b[0m\n",
      "\u001b[2;36m                    \u001b[0m         \u001b[32mages/setuptools_scm/_integration/\u001b[0m \u001b[2m                 \u001b[0m\n",
      "\u001b[2;36m                    \u001b[0m         \u001b[32mpyproject_reading.py\"\u001b[0m, line \u001b[1;36m53\u001b[0m,   \u001b[2m                 \u001b[0m\n",
      "\u001b[2;36m                    \u001b[0m         in read_pyproject                 \u001b[2m                 \u001b[0m\n",
      "\u001b[2;36m                    \u001b[0m             section = \u001b[1;35mdefn.get\u001b[0m\u001b[1m(\u001b[0m\u001b[32m\"tool\"\u001b[0m,    \u001b[2m                 \u001b[0m\n",
      "\u001b[2;36m                    \u001b[0m         \u001b[1m{\u001b[0m\u001b[1m}\u001b[0m\u001b[1m)\u001b[0m\u001b[1m[\u001b[0mtool_name\u001b[1m]\u001b[0m                    \u001b[2m                 \u001b[0m\n",
      "\u001b[2;36m                    \u001b[0m         KeyError: \u001b[32m'setuptools_scm'\u001b[0m        \u001b[2m                 \u001b[0m\n",
      "\u001b[2;36m                    \u001b[0m                                           \u001b[2m                 \u001b[0m\n",
      "\u001b[2;36m                    \u001b[0m         The above exception was the       \u001b[2m                 \u001b[0m\n",
      "\u001b[2;36m                    \u001b[0m         direct cause of the following     \u001b[2m                 \u001b[0m\n",
      "\u001b[2;36m                    \u001b[0m         exception:                        \u001b[2m                 \u001b[0m\n",
      "\u001b[2;36m                    \u001b[0m                                           \u001b[2m                 \u001b[0m\n",
      "\u001b[2;36m                    \u001b[0m         Traceback \u001b[1m(\u001b[0mmost recent call       \u001b[2m                 \u001b[0m\n",
      "\u001b[2;36m                    \u001b[0m         last\u001b[1m)\u001b[0m:                            \u001b[2m                 \u001b[0m\n",
      "\u001b[2;36m                    \u001b[0m           File                            \u001b[2m                 \u001b[0m\n",
      "\u001b[2;36m                    \u001b[0m         \u001b[32m\"/home/wangxi/mambaforge-pypy3/en\u001b[0m \u001b[2m                 \u001b[0m\n",
      "\u001b[2;36m                    \u001b[0m         \u001b[32mvs/torch/lib/python3.10/site-pack\u001b[0m \u001b[2m                 \u001b[0m\n",
      "\u001b[2;36m                    \u001b[0m         \u001b[32mages/setuptools_scm/_integration/\u001b[0m \u001b[2m                 \u001b[0m\n",
      "\u001b[2;36m                    \u001b[0m         \u001b[32msetuptools.py\"\u001b[0m, line \u001b[1;36m117\u001b[0m, in      \u001b[2m                 \u001b[0m\n",
      "\u001b[2;36m                    \u001b[0m         infer_version                     \u001b[2m                 \u001b[0m\n",
      "\u001b[2;36m                    \u001b[0m             config =                      \u001b[2m                 \u001b[0m\n",
      "\u001b[2;36m                    \u001b[0m         \u001b[1;35m_config.Configuration.from_file\u001b[0m\u001b[1m(\u001b[0m\u001b[33md\u001b[0m \u001b[2m                 \u001b[0m\n",
      "\u001b[2;36m                    \u001b[0m         \u001b[33mist_name\u001b[0m=\u001b[35mdist_name\u001b[0m\u001b[1m)\u001b[0m               \u001b[2m                 \u001b[0m\n",
      "\u001b[2;36m                    \u001b[0m           File                            \u001b[2m                 \u001b[0m\n",
      "\u001b[2;36m                    \u001b[0m         \u001b[32m\"/home/wangxi/mambaforge-pypy3/en\u001b[0m \u001b[2m                 \u001b[0m\n",
      "\u001b[2;36m                    \u001b[0m         \u001b[32mvs/torch/lib/python3.10/site-pack\u001b[0m \u001b[2m                 \u001b[0m\n",
      "\u001b[2;36m                    \u001b[0m         \u001b[32mages/setuptools_scm/_config.py\"\u001b[0m,  \u001b[2m                 \u001b[0m\n",
      "\u001b[2;36m                    \u001b[0m         line \u001b[1;36m125\u001b[0m, in from_file            \u001b[2m                 \u001b[0m\n",
      "\u001b[2;36m                    \u001b[0m             pyproject_data =              \u001b[2m                 \u001b[0m\n",
      "\u001b[2;36m                    \u001b[0m         \u001b[1;35m_read_pyproject\u001b[0m\u001b[1m(\u001b[0mname,             \u001b[2m                 \u001b[0m\n",
      "\u001b[2;36m                    \u001b[0m         \u001b[33m_load_toml\u001b[0m=\u001b[35m_load_toml\u001b[0m\u001b[1m)\u001b[0m            \u001b[2m                 \u001b[0m\n",
      "\u001b[2;36m                    \u001b[0m           File                            \u001b[2m                 \u001b[0m\n",
      "\u001b[2;36m                    \u001b[0m         \u001b[32m\"/home/wangxi/mambaforge-pypy3/en\u001b[0m \u001b[2m                 \u001b[0m\n",
      "\u001b[2;36m                    \u001b[0m         \u001b[32mvs/torch/lib/python3.10/site-pack\u001b[0m \u001b[2m                 \u001b[0m\n",
      "\u001b[2;36m                    \u001b[0m         \u001b[32mages/setuptools_scm/_integration/\u001b[0m \u001b[2m                 \u001b[0m\n",
      "\u001b[2;36m                    \u001b[0m         \u001b[32mpyproject_reading.py\"\u001b[0m, line \u001b[1;36m55\u001b[0m,   \u001b[2m                 \u001b[0m\n",
      "\u001b[2;36m                    \u001b[0m         in read_pyproject                 \u001b[2m                 \u001b[0m\n",
      "\u001b[2;36m                    \u001b[0m             raise \u001b[1;35mLookupError\u001b[0m\u001b[1m(\u001b[0mf\"\u001b[1m{\u001b[0mname\u001b[1m}\u001b[0m    \u001b[2m                 \u001b[0m\n",
      "\u001b[2;36m                    \u001b[0m         does not contain a                \u001b[2m                 \u001b[0m\n",
      "\u001b[2;36m                    \u001b[0m         tool.\u001b[1m{\u001b[0mtool_name\u001b[1m}\u001b[0m section\"\u001b[1m)\u001b[0m from e \u001b[2m                 \u001b[0m\n",
      "\u001b[2;36m                    \u001b[0m         LookupError: pyproject.toml does  \u001b[2m                 \u001b[0m\n",
      "\u001b[2;36m                    \u001b[0m         not contain a tool.setuptools_scm \u001b[2m                 \u001b[0m\n",
      "\u001b[2;36m                    \u001b[0m         section                           \u001b[2m                 \u001b[0m\n",
      "\u001b[1m* Installing packages in isolated environment... (setuptools, setuptools-scm)\u001b[0m\n",
      "\u001b[1m* Getting build dependencies for sdist...\u001b[0m\n",
      "running egg_info\n",
      "writing integration_develop.egg-info/PKG-INFO\n",
      "writing dependency_links to integration_develop.egg-info/dependency_links.txt\n",
      "writing requirements to integration_develop.egg-info/requires.txt\n",
      "writing top-level names to integration_develop.egg-info/top_level.txt\n",
      "adding license file 'LICENSE'\n",
      "writing manifest file 'integration_develop.egg-info/SOURCES.txt'\n",
      "\u001b[1m* Building sdist...\u001b[0m\n",
      "running sdist\n",
      "running egg_info\n",
      "writing integration_develop.egg-info/PKG-INFO\n",
      "writing dependency_links to integration_develop.egg-info/dependency_links.txt\n",
      "writing requirements to integration_develop.egg-info/requires.txt\n",
      "writing top-level names to integration_develop.egg-info/top_level.txt\n",
      "adding license file 'LICENSE'\n",
      "writing manifest file 'integration_develop.egg-info/SOURCES.txt'\n",
      "running check\n",
      "creating integration-develop-0.0.0\n",
      "creating integration-develop-0.0.0/.github\n",
      "creating integration-develop-0.0.0/.github/workflows\n",
      "creating integration-develop-0.0.0/integration_develop\n",
      "creating integration-develop-0.0.0/integration_develop.egg-info\n",
      "creating integration-develop-0.0.0/notebook\n",
      "creating integration-develop-0.0.0/scripts\n",
      "copying files to integration-develop-0.0.0...\n",
      "copying .codespell-whitelist.txt -> integration-develop-0.0.0\n",
      "copying .gitignore -> integration-develop-0.0.0\n",
      "copying .pre-commit-config.yaml -> integration-develop-0.0.0\n",
      "copying LICENSE -> integration-develop-0.0.0\n",
      "copying README.md -> integration-develop-0.0.0\n",
      "copying pyproject.toml -> integration-develop-0.0.0\n",
      "copying setup.py -> integration-develop-0.0.0\n",
      "copying .github/workflows/main.yml -> integration-develop-0.0.0/.github/workflows\n",
      "copying integration_develop/__init__.py -> integration-develop-0.0.0/integration_develop\n",
      "copying integration_develop/_version.py -> integration-develop-0.0.0/integration_develop\n",
      "copying integration_develop.egg-info/PKG-INFO -> integration-develop-0.0.0/integration_develop.egg-info\n",
      "copying integration_develop.egg-info/SOURCES.txt -> integration-develop-0.0.0/integration_develop.egg-info\n",
      "copying integration_develop.egg-info/dependency_links.txt -> integration-develop-0.0.0/integration_develop.egg-info\n",
      "copying integration_develop.egg-info/requires.txt -> integration-develop-0.0.0/integration_develop.egg-info\n",
      "copying integration_develop.egg-info/top_level.txt -> integration-develop-0.0.0/integration_develop.egg-info\n",
      "copying notebook/report1_test.xml -> integration-develop-0.0.0/notebook\n",
      "copying notebook/step1_pytest_basic.ipynb -> integration-develop-0.0.0/notebook\n",
      "copying notebook/step2_pytest_fixture.ipynb -> integration-develop-0.0.0/notebook\n",
      "copying notebook/step3_pre_commit.ipynb -> integration-develop-0.0.0/notebook\n",
      "copying notebook/step4_pyproject.ipynb -> integration-develop-0.0.0/notebook\n",
      "copying notebook/step5_cicd.ipynb -> integration-develop-0.0.0/notebook\n",
      "copying scripts/conftest.py -> integration-develop-0.0.0/scripts\n",
      "copying scripts/run_coverage.py -> integration-develop-0.0.0/scripts\n",
      "copying scripts/test_basic.py -> integration-develop-0.0.0/scripts\n",
      "Writing integration-develop-0.0.0/setup.cfg\n",
      "Creating tar archive\n",
      "removing 'integration-develop-0.0.0' (and everything under it)\n",
      "\u001b[1m* Building wheel from sdist\u001b[0m\n",
      "\u001b[1m* Creating virtualenv isolated environment...\u001b[0m\n",
      "\u001b[1m* Installing packages in isolated environment... (setuptools, setuptools-scm)\u001b[0m\n",
      "\u001b[1m* Getting build dependencies for wheel...\u001b[0m\n",
      "running egg_info\n",
      "writing integration_develop.egg-info/PKG-INFO\n",
      "writing dependency_links to integration_develop.egg-info/dependency_links.txt\n",
      "writing requirements to integration_develop.egg-info/requires.txt\n",
      "writing top-level names to integration_develop.egg-info/top_level.txt\n",
      "listing git files failed - pretending there aren't any\n",
      "reading manifest file 'integration_develop.egg-info/SOURCES.txt'\n",
      "adding license file 'LICENSE'\n",
      "writing manifest file 'integration_develop.egg-info/SOURCES.txt'\n",
      "\u001b[1m* Installing packages in isolated environment... (wheel)\u001b[0m\n",
      "\u001b[1m* Building wheel...\u001b[0m\n",
      "running bdist_wheel\n",
      "running build\n",
      "running build_py\n",
      "creating build\n",
      "creating build/lib\n",
      "creating build/lib/integration_develop\n",
      "copying integration_develop/__init__.py -> build/lib/integration_develop\n",
      "copying integration_develop/_version.py -> build/lib/integration_develop\n",
      "running egg_info\n",
      "writing integration_develop.egg-info/PKG-INFO\n",
      "writing dependency_links to integration_develop.egg-info/dependency_links.txt\n",
      "writing requirements to integration_develop.egg-info/requires.txt\n",
      "writing top-level names to integration_develop.egg-info/top_level.txt\n",
      "listing git files failed - pretending there aren't any\n",
      "reading manifest file 'integration_develop.egg-info/SOURCES.txt'\n",
      "adding license file 'LICENSE'\n",
      "writing manifest file 'integration_develop.egg-info/SOURCES.txt'\n",
      "installing to build/bdist.linux-x86_64/wheel\n",
      "running install\n",
      "running install_lib\n",
      "creating build/bdist.linux-x86_64\n",
      "creating build/bdist.linux-x86_64/wheel\n",
      "creating build/bdist.linux-x86_64/wheel/integration_develop\n",
      "copying build/lib/integration_develop/__init__.py -> build/bdist.linux-x86_64/wheel/integration_develop\n",
      "copying build/lib/integration_develop/_version.py -> build/bdist.linux-x86_64/wheel/integration_develop\n",
      "running install_egg_info\n",
      "Copying integration_develop.egg-info to build/bdist.linux-x86_64/wheel/integration_develop-0.0.0-py3.10.egg-info\n",
      "running install_scripts\n",
      "creating build/bdist.linux-x86_64/wheel/integration_develop-0.0.0.dist-info/WHEEL\n",
      "creating '/home/wangxi/develop/Integration_Develop/dist/.tmp-w9d_qfvq/integration_develop-0.0.0-py3-none-any.whl' and adding 'build/bdist.linux-x86_64/wheel' to it\n",
      "adding 'integration_develop/__init__.py'\n",
      "adding 'integration_develop/_version.py'\n",
      "adding 'integration_develop-0.0.0.dist-info/LICENSE'\n",
      "adding 'integration_develop-0.0.0.dist-info/METADATA'\n",
      "adding 'integration_develop-0.0.0.dist-info/WHEEL'\n",
      "adding 'integration_develop-0.0.0.dist-info/top_level.txt'\n",
      "adding 'integration_develop-0.0.0.dist-info/RECORD'\n",
      "removing build/bdist.linux-x86_64/wheel\n",
      "\u001b[1m\u001b[92mSuccessfully built \u001b[4mintegration-develop-0.0.0.tar.gz\u001b[0m\u001b[1m\u001b[92m and \u001b[4mintegration_develop-0.0.0-py3-none-any.whl\u001b[0m\u001b[1m\u001b[92m\u001b[0m\n"
     ]
    }
   ],
   "source": [
    "! cd .. && python -m build"
   ]
  },
  {
   "attachments": {},
   "cell_type": "markdown",
   "metadata": {},
   "source": [
    "Now, you can find dist package in your `dist` dir."
   ]
  },
  {
   "cell_type": "code",
   "execution_count": 6,
   "metadata": {},
   "outputs": [
    {
     "name": "stdout",
     "output_type": "stream",
     "text": [
      "\u001b[01;34mdist\u001b[0m\n",
      "├── \u001b[01;31mintegration-develop-0.0.0.tar.gz\u001b[0m\n",
      "└── \u001b[00mintegration_develop-0.0.0-py3-none-any.whl\u001b[0m\n",
      "\n",
      "1 directory, 2 files\n"
     ]
    }
   ],
   "source": [
    "! cd .. && tree dist"
   ]
  },
  {
   "attachments": {},
   "cell_type": "markdown",
   "metadata": {},
   "source": [
    "### Upload dist package"
   ]
  },
  {
   "attachments": {},
   "cell_type": "markdown",
   "metadata": {},
   "source": [
    "If you are not familiar with PyPI, you are suggsted to upload dist to `Test PyPI` firstly, which design for green hand to test. After registration, you can use `twine` to upload your package to test pypi."
   ]
  },
  {
   "cell_type": "code",
   "execution_count": 9,
   "metadata": {},
   "outputs": [],
   "source": [
    "! pip -qqq install --user --upgrade twine"
   ]
  },
  {
   "attachments": {},
   "cell_type": "markdown",
   "metadata": {},
   "source": [
    "使用下面的命令上传dist分发包到`PyPI`："
   ]
  },
  {
   "attachments": {},
   "cell_type": "markdown",
   "metadata": {},
   "source": [
    "```bash\n",
    "python -m twine upload --repository testpypi dist/*\n",
    "```"
   ]
  },
  {
   "attachments": {},
   "cell_type": "markdown",
   "metadata": {},
   "source": [
    "After you test your package via `pip install --index-url https://test.pypi.org/simple/ --no-deps py-pkg`, you can upload your package to PyPI now."
   ]
  },
  {
   "attachments": {},
   "cell_type": "markdown",
   "metadata": {},
   "source": [
    "```bash\n",
    "python -m twine upload dist/*\n",
    "```"
   ]
  },
  {
   "attachments": {},
   "cell_type": "markdown",
   "metadata": {},
   "source": [
    "## Automatic upload package (Recommended)"
   ]
  },
  {
   "attachments": {},
   "cell_type": "markdown",
   "metadata": {},
   "source": [
    "For integrated and easy-control develop, you are recommended to use CI/CD to automatically upload your distributed packages into PyPI.\n",
    "\n",
    "Here is an example of github action yaml file:"
   ]
  },
  {
   "attachments": {},
   "cell_type": "markdown",
   "metadata": {},
   "source": [
    "```yaml\n",
    "  release:\n",
    "    if: startsWith(github.event.ref, 'refs/tags/v')\n",
    "    needs: [lint, test]\n",
    "    environment: pypi\n",
    "    runs-on: ubuntu-latest\n",
    "    steps:\n",
    "      - uses: actions/checkout@v3\n",
    "      - uses: actions/setup-python@v4\n",
    "        with:\n",
    "          python-version: 3.x\n",
    "          cache: \"pip\"\n",
    "      - name: Install dependencies for building\n",
    "        run: pip install wheel setuptools_scm\n",
    "      - name: build package\n",
    "        run: python setup.py sdist bdist_wheel\n",
    "      - name: create release\n",
    "        uses: \"marvinpinto/action-automatic-releases@latest\"\n",
    "        with:\n",
    "          repo_token: \"${{ secrets.GITHUB_TOKEN }}\"\n",
    "          prerelease: false\n",
    "          files: |\n",
    "            dist/*\n",
    "      - name: publish to PyPI\n",
    "        uses: pypa/gh-action-pypi-publish@release/v1\n",
    "        with:\n",
    "          password: ${{ secrets.PYPI_API_TOKEN }}\n",
    "```"
   ]
  }
 ],
 "metadata": {
  "kernelspec": {
   "display_name": "torch",
   "language": "python",
   "name": "python3"
  },
  "language_info": {
   "codemirror_mode": {
    "name": "ipython",
    "version": 3
   },
   "file_extension": ".py",
   "mimetype": "text/x-python",
   "name": "python",
   "nbconvert_exporter": "python",
   "pygments_lexer": "ipython3",
   "version": "3.10.9"
  },
  "orig_nbformat": 4
 },
 "nbformat": 4,
 "nbformat_minor": 2
}
