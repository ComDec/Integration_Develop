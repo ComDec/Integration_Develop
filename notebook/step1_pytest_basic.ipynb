{
 "cells": [
  {
   "attachments": {},
   "cell_type": "markdown",
   "metadata": {},
   "source": [
    "## 基本单元格测试"
   ]
  },
  {
   "cell_type": "code",
   "execution_count": 2,
   "metadata": {},
   "outputs": [],
   "source": [
    "! pip -qqq install -U ipytest \n",
    "import ipytest\n",
    "import pytest\n",
    "ipytest.autoconfig();"
   ]
  },
  {
   "attachments": {},
   "cell_type": "markdown",
   "metadata": {},
   "source": [
    "请注意，在下面的演示中，为了适配Jupyter notebook，我们使用了magic cell插件`ipytest`；若是命令行操作，请遵循如下原则：\n",
    "\n",
    "1. 运行pytest而不提及文件名，将运行当前目录和子目录中所有格式为 test_*.py 或 *_test.py 的文件。Pytest自动将这些文件识别为测试文件。我们 可以 通过明确提及其他文件名来使pytest运行这些文件。\n",
    "\n",
    "2. Pytest要求测试函数名以 test 开头。非test格式的函数名不会被pytest认为是测试函数。我们**不能**明确地让pytest将任何不以test 开头的函数视为测试函数。"
   ]
  },
  {
   "cell_type": "code",
   "execution_count": 13,
   "metadata": {},
   "outputs": [
    {
     "name": "stdout",
     "output_type": "stream",
     "text": [
      "\u001b[32m.\u001b[0m\u001b[31mF\u001b[0m\u001b[32m.\u001b[0m\u001b[31m                                                                                          [100%]\u001b[0m\n",
      "============================================= FAILURES =============================================\n",
      "\u001b[31m\u001b[1m____________________________________________ testsquare ____________________________________________\u001b[0m\n",
      "\n",
      "    \u001b[94mdef\u001b[39;49;00m \u001b[92mtestsquare\u001b[39;49;00m():\u001b[90m\u001b[39;49;00m\n",
      "       num = \u001b[94m7\u001b[39;49;00m\u001b[90m\u001b[39;49;00m\n",
      ">      \u001b[94massert\u001b[39;49;00m \u001b[94m7\u001b[39;49;00m*\u001b[94m7\u001b[39;49;00m == \u001b[94m40\u001b[39;49;00m\u001b[90m\u001b[39;49;00m\n",
      "\u001b[1m\u001b[31mE      assert (7 * 7) == 40\u001b[0m\n",
      "\n",
      "\u001b[1m\u001b[31m/tmp/ipykernel_1342290/2457982182.py\u001b[0m:9: AssertionError\n",
      "\u001b[36m\u001b[1m===================================== short test summary info ======================================\u001b[0m\n",
      "\u001b[31mFAILED\u001b[0m t_05793ffc3d7748f097e508bcd8e98fb8.py::\u001b[1mtestsquare\u001b[0m - assert (7 * 7) == 40\n",
      "\u001b[31m\u001b[31m\u001b[1m1 failed\u001b[0m, \u001b[32m2 passed\u001b[0m\u001b[31m in 0.02s\u001b[0m\u001b[0m\n"
     ]
    }
   ],
   "source": [
    "%%ipytest\n",
    "\n",
    "import math\n",
    "\n",
    "def test_sqrt():\n",
    "   num = 25\n",
    "   assert math.sqrt(num) == 5\n",
    "\n",
    "def testsquare():\n",
    "   num = 7\n",
    "   assert 7*7 == 40\n",
    "\n",
    "def testquality():\n",
    "   assert 11 == 11"
   ]
  },
  {
   "attachments": {},
   "cell_type": "markdown",
   "metadata": {},
   "source": [
    "`.F`中F的数目表示失败的函数数量；若没有错误则是`.`为首行输出。"
   ]
  },
  {
   "attachments": {},
   "cell_type": "markdown",
   "metadata": {},
   "source": [
    "使用`pytest -v`可以获取更准确的输出信息。"
   ]
  },
  {
   "attachments": {},
   "cell_type": "markdown",
   "metadata": {},
   "source": [
    "## 执行不同测试集测试"
   ]
  },
  {
   "attachments": {},
   "cell_type": "markdown",
   "metadata": {},
   "source": [
    "在一个真实的场景中，我们将有多个测试文件，每个文件将有一些测试。测试将涵盖各种模块和功能。假设，我们只想运行一个特定的测试集；我们如何去做呢？\n",
    "\n",
    "Pytest提供了两种方法来运行测试套件的子集。\n",
    "\n",
    "1. 根据测试名称的子串匹配，选择要运行的测试。\n",
    "2. 根据应用的标记选择要运行的测试组。"
   ]
  },
  {
   "attachments": {},
   "cell_type": "markdown",
   "metadata": {},
   "source": [
    "### 字符串匹配"
   ]
  },
  {
   "cell_type": "code",
   "execution_count": 15,
   "metadata": {},
   "outputs": [
    {
     "name": "stdout",
     "output_type": "stream",
     "text": [
      "\u001b[1m============================= test session starts ==============================\u001b[0m\n",
      "platform linux -- Python 3.10.9, pytest-7.4.1, pluggy-1.3.0 -- /home/wangxi/mambaforge-pypy3/envs/torch/bin/python3.10\n",
      "cachedir: .pytest_cache\n",
      "rootdir: /home/wangxi/develop/Integration_Develop\n",
      "plugins: anyio-3.6.2\n",
      "collected 3 items / 1 deselected / 2 selected                                  \u001b[0m\n",
      "\n",
      "../scripts/test_basic.py::test_greater \u001b[31mFAILED\u001b[0m\u001b[31m                            [ 50%]\u001b[0m\n",
      "../scripts/test_basic.py::test_greater_equal \u001b[32mPASSED\u001b[0m\u001b[31m                      [100%]\u001b[0m\n",
      "\n",
      "=================================== FAILURES ===================================\n",
      "\u001b[31m\u001b[1m_________________________________ test_greater _________________________________\u001b[0m\n",
      "\n",
      "    \u001b[94mdef\u001b[39;49;00m \u001b[92mtest_greater\u001b[39;49;00m():\u001b[90m\u001b[39;49;00m\n",
      "       num = \u001b[94m100\u001b[39;49;00m\u001b[90m\u001b[39;49;00m\n",
      ">      \u001b[94massert\u001b[39;49;00m num > \u001b[94m100\u001b[39;49;00m\u001b[90m\u001b[39;49;00m\n",
      "\u001b[1m\u001b[31mE      assert 100 > 100\u001b[0m\n",
      "\n",
      "\u001b[1m\u001b[31m../scripts/test_basic.py\u001b[0m:3: AssertionError\n",
      "\u001b[36m\u001b[1m=========================== short test summary info ============================\u001b[0m\n",
      "\u001b[31mFAILED\u001b[0m ../scripts/test_basic.py::\u001b[1mtest_greater\u001b[0m - assert 100 > 100\n",
      "\u001b[31m================== \u001b[31m\u001b[1m1 failed\u001b[0m, \u001b[32m1 passed\u001b[0m, \u001b[33m1 deselected\u001b[0m\u001b[31m in 0.06s\u001b[0m\u001b[31m ===================\u001b[0m\n"
     ]
    }
   ],
   "source": [
    "!pytest -k great -v ../scripts/test_basic.py"
   ]
  },
  {
   "attachments": {},
   "cell_type": "markdown",
   "metadata": {},
   "source": [
    "### 分组测试\n",
    "Pytest允许我们在测试函数上使用标记。标记是用来给测试函数设置各种功能/属性的。Pytest提供了许多内置的标记，如xfail, skip和parametrize。除此之外，用户可以创建自己的标记名称。标记是使用下面给出的语法应用于测试的：\n",
    "\n",
    "`@pytest.mark.<markername>`"
   ]
  },
  {
   "cell_type": "code",
   "execution_count": 16,
   "metadata": {},
   "outputs": [
    {
     "name": "stdout",
     "output_type": "stream",
     "text": [
      "\u001b[1m============================= test session starts ==============================\u001b[0m\n",
      "platform linux -- Python 3.10.9, pytest-7.4.1, pluggy-1.3.0 -- /home/wangxi/mambaforge-pypy3/envs/torch/bin/python3.10\n",
      "cachedir: .pytest_cache\n",
      "rootdir: /home/wangxi/develop/Integration_Develop\n",
      "plugins: anyio-3.6.2\n",
      "collected 5 items / 4 deselected / 1 selected                                  \u001b[0m\n",
      "\n",
      "../scripts/test_basic.py::test_group1 \u001b[32mPASSED\u001b[0m\u001b[33m                             [100%]\u001b[0m\n",
      "\n",
      "\u001b[33m=============================== warnings summary ===============================\u001b[0m\n",
      "../scripts/test_basic.py:15\n",
      "  /home/wangxi/develop/Integration_Develop/scripts/test_basic.py:15: PytestUnknownMarkWarning: Unknown pytest.mark.group1 - is this a typo?  You can register custom marks to avoid this warning - for details, see https://docs.pytest.org/en/stable/how-to/mark.html\n",
      "    @pytest.mark.group1\n",
      "\n",
      "../scripts/test_basic.py:20\n",
      "  /home/wangxi/develop/Integration_Develop/scripts/test_basic.py:20: PytestUnknownMarkWarning: Unknown pytest.mark.group2 - is this a typo?  You can register custom marks to avoid this warning - for details, see https://docs.pytest.org/en/stable/how-to/mark.html\n",
      "    @pytest.mark.group2\n",
      "\n",
      "-- Docs: https://docs.pytest.org/en/stable/how-to/capture-warnings.html\n",
      "\u001b[33m================= \u001b[32m1 passed\u001b[0m, \u001b[33m\u001b[1m4 deselected\u001b[0m, \u001b[33m\u001b[1m2 warnings\u001b[0m\u001b[33m in 0.01s\u001b[0m\u001b[33m ==================\u001b[0m\n"
     ]
    }
   ],
   "source": [
    "!pytest -m group1 -v ../scripts/test_basic.py"
   ]
  },
  {
   "cell_type": "code",
   "execution_count": 17,
   "metadata": {},
   "outputs": [
    {
     "name": "stdout",
     "output_type": "stream",
     "text": [
      "\u001b[1m============================= test session starts ==============================\u001b[0m\n",
      "platform linux -- Python 3.10.9, pytest-7.4.1, pluggy-1.3.0 -- /home/wangxi/mambaforge-pypy3/envs/torch/bin/python3.10\n",
      "cachedir: .pytest_cache\n",
      "rootdir: /home/wangxi/develop/Integration_Develop\n",
      "plugins: anyio-3.6.2\n",
      "collected 5 items / 4 deselected / 1 selected                                  \u001b[0m\n",
      "\n",
      "../scripts/test_basic.py::test_group2 \u001b[32mPASSED\u001b[0m\u001b[33m                             [100%]\u001b[0m\n",
      "\n",
      "\u001b[33m=============================== warnings summary ===============================\u001b[0m\n",
      "../scripts/test_basic.py:15\n",
      "  /home/wangxi/develop/Integration_Develop/scripts/test_basic.py:15: PytestUnknownMarkWarning: Unknown pytest.mark.group1 - is this a typo?  You can register custom marks to avoid this warning - for details, see https://docs.pytest.org/en/stable/how-to/mark.html\n",
      "    @pytest.mark.group1\n",
      "\n",
      "../scripts/test_basic.py:20\n",
      "  /home/wangxi/develop/Integration_Develop/scripts/test_basic.py:20: PytestUnknownMarkWarning: Unknown pytest.mark.group2 - is this a typo?  You can register custom marks to avoid this warning - for details, see https://docs.pytest.org/en/stable/how-to/mark.html\n",
      "    @pytest.mark.group2\n",
      "\n",
      "-- Docs: https://docs.pytest.org/en/stable/how-to/capture-warnings.html\n",
      "\u001b[33m================= \u001b[32m1 passed\u001b[0m, \u001b[33m\u001b[1m4 deselected\u001b[0m, \u001b[33m\u001b[1m2 warnings\u001b[0m\u001b[33m in 0.01s\u001b[0m\u001b[33m ==================\u001b[0m\n"
     ]
    }
   ],
   "source": [
    "!pytest -m group2 -v ../scripts/test_basic.py"
   ]
  },
  {
   "cell_type": "markdown",
   "metadata": {},
   "source": [
    "### Xfail/Skip测试\n",
    "\n",
    "* 由于某些原因，一个测试在一段时间内没有意义。\n",
    "* 一个新功能正在实现，我们已经为该功能添加了一个测试。\n",
    "在这些情况下，我们可以选择xfail测试或跳过测试。\n",
    "\n",
    "Pytest将执行xfailed测试，但它不会被认为是失败或通过测试的一部分。即使测试失败，这些测试的细节也不会被打印出来（记得pytest通常会打印出失败的测试细节）。"
   ]
  },
  {
   "cell_type": "code",
   "execution_count": 3,
   "metadata": {},
   "outputs": [
    {
     "name": "stdout",
     "output_type": "stream",
     "text": [
      "\u001b[33mx\u001b[0m\u001b[33ms\u001b[0m\u001b[33m                                                                                           [100%]\u001b[0m\n",
      "\u001b[33m\u001b[33m\u001b[1m1 skipped\u001b[0m, \u001b[33m\u001b[1m1 xfailed\u001b[0m\u001b[33m in 0.05s\u001b[0m\u001b[0m\n"
     ]
    }
   ],
   "source": [
    "%%ipytest\n",
    "\n",
    "@pytest.mark.xfail\n",
    "def test_xfail():\n",
    "  assert False\n",
    "  \n",
    "@pytest.mark.skip\n",
    "def test_skip():\n",
    "  assert False"
   ]
  },
  {
   "attachments": {},
   "cell_type": "markdown",
   "metadata": {},
   "source": [
    "### Max fail"
   ]
  },
  {
   "attachments": {},
   "cell_type": "markdown",
   "metadata": {},
   "source": [
    "只有当测试套件通过时，该代码才有资格部署到生产中。如果有测试失败，不管是一个还是多个，代码都不是生产准备。\n",
    "\n",
    "因此，如果我们想在N个测试失败后立即停止测试套件的执行，该怎么办？这可以在pytest中使用maxfail来实现。"
   ]
  },
  {
   "cell_type": "code",
   "execution_count": 4,
   "metadata": {},
   "outputs": [
    {
     "name": "stdout",
     "output_type": "stream",
     "text": [
      "\u001b[1m============================= test session starts ==============================\u001b[0m\n",
      "platform linux -- Python 3.10.9, pytest-7.4.1, pluggy-1.3.0 -- /home/wangxi/mambaforge-pypy3/envs/torch/bin/python3.10\n",
      "cachedir: .pytest_cache\n",
      "rootdir: /home/wangxi/develop/Integration_Develop\n",
      "plugins: anyio-3.6.2\n",
      "collected 5 items                                                              \u001b[0m\n",
      "\n",
      "../scripts/test_basic.py::test_greater \u001b[31mFAILED\u001b[0m\u001b[31m                            [ 20%]\u001b[0m\n",
      "\n",
      "=================================== FAILURES ===================================\n",
      "\u001b[31m\u001b[1m_________________________________ test_greater _________________________________\u001b[0m\n",
      "\n",
      "    \u001b[94mdef\u001b[39;49;00m \u001b[92mtest_greater\u001b[39;49;00m():\u001b[90m\u001b[39;49;00m\n",
      "       num = \u001b[94m100\u001b[39;49;00m\u001b[90m\u001b[39;49;00m\n",
      ">      \u001b[94massert\u001b[39;49;00m num > \u001b[94m100\u001b[39;49;00m\u001b[90m\u001b[39;49;00m\n",
      "\u001b[1m\u001b[31mE      assert 100 > 100\u001b[0m\n",
      "\n",
      "\u001b[1m\u001b[31m../scripts/test_basic.py\u001b[0m:5: AssertionError\n",
      "\u001b[33m=============================== warnings summary ===============================\u001b[0m\n",
      "../scripts/test_basic.py:15\n",
      "  /home/wangxi/develop/Integration_Develop/scripts/test_basic.py:15: PytestUnknownMarkWarning: Unknown pytest.mark.group1 - is this a typo?  You can register custom marks to avoid this warning - for details, see https://docs.pytest.org/en/stable/how-to/mark.html\n",
      "    @pytest.mark.group1\n",
      "\n",
      "../scripts/test_basic.py:20\n",
      "  /home/wangxi/develop/Integration_Develop/scripts/test_basic.py:20: PytestUnknownMarkWarning: Unknown pytest.mark.group2 - is this a typo?  You can register custom marks to avoid this warning - for details, see https://docs.pytest.org/en/stable/how-to/mark.html\n",
      "    @pytest.mark.group2\n",
      "\n",
      "-- Docs: https://docs.pytest.org/en/stable/how-to/capture-warnings.html\n",
      "\u001b[36m\u001b[1m=========================== short test summary info ============================\u001b[0m\n",
      "\u001b[31mFAILED\u001b[0m ../scripts/test_basic.py::\u001b[1mtest_greater\u001b[0m - assert 100 > 100\n",
      "\u001b[31m!!!!!!!!!!!!!!!!!!!!!!!!!! stopping after 1 failures !!!!!!!!!!!!!!!!!!!!!!!!!!!\u001b[0m\n",
      "\u001b[31m======================== \u001b[31m\u001b[1m1 failed\u001b[0m, \u001b[33m2 warnings\u001b[0m\u001b[31m in 0.06s\u001b[0m\u001b[31m =========================\u001b[0m\n"
     ]
    }
   ],
   "source": [
    "!pytest --maxfail 1 -v ../scripts/test_basic.py"
   ]
  },
  {
   "attachments": {},
   "cell_type": "markdown",
   "metadata": {},
   "source": [
    "### 并行测试\n",
    "默认情况下，pytest按顺序运行测试。在实际情况下，一个测试套件会有很多测试文件，每个文件都有一堆测试。这将导致大量的执行时间。为了克服这个问题，pytest为我们提供了一个并行运行测试的选项。"
   ]
  },
  {
   "cell_type": "code",
   "execution_count": 7,
   "metadata": {},
   "outputs": [],
   "source": [
    "!pip -qqq install pytest-xdist"
   ]
  },
  {
   "cell_type": "code",
   "execution_count": 8,
   "metadata": {},
   "outputs": [
    {
     "name": "stdout",
     "output_type": "stream",
     "text": [
      "\u001b[1m============================= test session starts ==============================\u001b[0m\n",
      "platform linux -- Python 3.10.9, pytest-7.4.1, pluggy-1.3.0\n",
      "rootdir: /home/wangxi/develop/Integration_Develop\n",
      "plugins: xdist-3.3.1, anyio-3.6.2\n",
      "3 workers [5 items]    \u001b[0m\u001b[1mm\u001b[1m\u001b[1m\u001b[1m\u001b[1m\n",
      "\u001b[32m.\u001b[0m\u001b[32m.\u001b[0m\u001b[32m.\u001b[0m\u001b[31mF\u001b[0m\u001b[32m.\u001b[0m\u001b[31m                                                                    [100%]\u001b[0m\n",
      "=================================== FAILURES ===================================\n",
      "\u001b[31m\u001b[1m_________________________________ test_greater _________________________________\u001b[0m\n",
      "[gw0] linux -- Python 3.10.9 /home/wangxi/mambaforge-pypy3/envs/torch/bin/python3.10\n",
      "\n",
      "    \u001b[94mdef\u001b[39;49;00m \u001b[92mtest_greater\u001b[39;49;00m():\u001b[90m\u001b[39;49;00m\n",
      "       num = \u001b[94m100\u001b[39;49;00m\u001b[90m\u001b[39;49;00m\n",
      ">      \u001b[94massert\u001b[39;49;00m num > \u001b[94m100\u001b[39;49;00m\u001b[90m\u001b[39;49;00m\n",
      "\u001b[1m\u001b[31mE      assert 100 > 100\u001b[0m\n",
      "\n",
      "\u001b[1m\u001b[31m../scripts/test_basic.py\u001b[0m:5: AssertionError\n",
      "\u001b[33m=============================== warnings summary ===============================\u001b[0m\n",
      "../scripts/test_basic.py:15\n",
      "../scripts/test_basic.py:15\n",
      "../scripts/test_basic.py:15\n",
      "  /home/wangxi/develop/Integration_Develop/scripts/test_basic.py:15: PytestUnknownMarkWarning: Unknown pytest.mark.group1 - is this a typo?  You can register custom marks to avoid this warning - for details, see https://docs.pytest.org/en/stable/how-to/mark.html\n",
      "    @pytest.mark.group1\n",
      "\n",
      "../scripts/test_basic.py:20\n",
      "../scripts/test_basic.py:20\n",
      "../scripts/test_basic.py:20\n",
      "  /home/wangxi/develop/Integration_Develop/scripts/test_basic.py:20: PytestUnknownMarkWarning: Unknown pytest.mark.group2 - is this a typo?  You can register custom marks to avoid this warning - for details, see https://docs.pytest.org/en/stable/how-to/mark.html\n",
      "    @pytest.mark.group2\n",
      "\n",
      "-- Docs: https://docs.pytest.org/en/stable/how-to/capture-warnings.html\n",
      "\u001b[36m\u001b[1m=========================== short test summary info ============================\u001b[0m\n",
      "\u001b[31mFAILED\u001b[0m ../scripts/test_basic.py::\u001b[1mtest_greater\u001b[0m - assert 100 > 100\n",
      "\u001b[31m=================== \u001b[31m\u001b[1m1 failed\u001b[0m, \u001b[32m4 passed\u001b[0m, \u001b[33m6 warnings\u001b[0m\u001b[31m in 0.47s\u001b[0m\u001b[31m ====================\u001b[0m\n"
     ]
    }
   ],
   "source": [
    "!pytest -n 3 ../scripts/test_basic.py"
   ]
  },
  {
   "attachments": {},
   "cell_type": "markdown",
   "metadata": {},
   "source": [
    "### XML reports"
   ]
  },
  {
   "attachments": {},
   "cell_type": "markdown",
   "metadata": {},
   "source": [
    "我们可以在一个xml文件中生成测试执行的细节。这个xml文件主要是在我们有一个预测测试结果的仪表板的情况下有用。在这种情况下，xml可以被解析以获得执行的细节。\n",
    "\n"
   ]
  },
  {
   "cell_type": "code",
   "execution_count": 11,
   "metadata": {},
   "outputs": [
    {
     "name": "stdout",
     "output_type": "stream",
     "text": [
      "\u001b[1m============================= test session starts ==============================\u001b[0m\n",
      "platform linux -- Python 3.10.9, pytest-7.4.1, pluggy-1.3.0 -- /home/wangxi/mambaforge-pypy3/envs/torch/bin/python3.10\n",
      "cachedir: .pytest_cache\n",
      "rootdir: /home/wangxi/develop/Integration_Develop\n",
      "plugins: xdist-3.3.1, anyio-3.6.2\n",
      "collected 5 items                                                              \u001b[0m\n",
      "\n",
      "../scripts/test_basic.py::test_greater \u001b[31mFAILED\u001b[0m\u001b[31m                            [ 20%]\u001b[0m\n",
      "../scripts/test_basic.py::test_greater_equal \u001b[32mPASSED\u001b[0m\u001b[31m                      [ 40%]\u001b[0m\n",
      "../scripts/test_basic.py::test_less \u001b[32mPASSED\u001b[0m\u001b[31m                               [ 60%]\u001b[0m\n",
      "../scripts/test_basic.py::test_group1 \u001b[32mPASSED\u001b[0m\u001b[31m                             [ 80%]\u001b[0m\n",
      "../scripts/test_basic.py::test_group2 \u001b[32mPASSED\u001b[0m\u001b[31m                             [100%]\u001b[0m\n",
      "\n",
      "=================================== FAILURES ===================================\n",
      "\u001b[31m\u001b[1m_________________________________ test_greater _________________________________\u001b[0m\n",
      "\n",
      "    \u001b[94mdef\u001b[39;49;00m \u001b[92mtest_greater\u001b[39;49;00m():\u001b[90m\u001b[39;49;00m\n",
      "       num = \u001b[94m100\u001b[39;49;00m\u001b[90m\u001b[39;49;00m\n",
      ">      \u001b[94massert\u001b[39;49;00m num > \u001b[94m100\u001b[39;49;00m\u001b[90m\u001b[39;49;00m\n",
      "\u001b[1m\u001b[31mE      assert 100 > 100\u001b[0m\n",
      "\n",
      "\u001b[1m\u001b[31m../scripts/test_basic.py\u001b[0m:5: AssertionError\n",
      "\u001b[33m=============================== warnings summary ===============================\u001b[0m\n",
      "../scripts/test_basic.py:15\n",
      "  /home/wangxi/develop/Integration_Develop/scripts/test_basic.py:15: PytestUnknownMarkWarning: Unknown pytest.mark.group1 - is this a typo?  You can register custom marks to avoid this warning - for details, see https://docs.pytest.org/en/stable/how-to/mark.html\n",
      "    @pytest.mark.group1\n",
      "\n",
      "../scripts/test_basic.py:20\n",
      "  /home/wangxi/develop/Integration_Develop/scripts/test_basic.py:20: PytestUnknownMarkWarning: Unknown pytest.mark.group2 - is this a typo?  You can register custom marks to avoid this warning - for details, see https://docs.pytest.org/en/stable/how-to/mark.html\n",
      "    @pytest.mark.group2\n",
      "\n",
      "-- Docs: https://docs.pytest.org/en/stable/how-to/capture-warnings.html\n",
      "- generated xml file: /home/wangxi/develop/Integration_Develop/notebook/report1_test.xml -\n",
      "\u001b[36m\u001b[1m=========================== short test summary info ============================\u001b[0m\n",
      "\u001b[31mFAILED\u001b[0m ../scripts/test_basic.py::\u001b[1mtest_greater\u001b[0m - assert 100 > 100\n",
      "\u001b[31m=================== \u001b[31m\u001b[1m1 failed\u001b[0m, \u001b[32m4 passed\u001b[0m, \u001b[33m2 warnings\u001b[0m\u001b[31m in 0.07s\u001b[0m\u001b[31m ====================\u001b[0m\n"
     ]
    }
   ],
   "source": [
    "!pytest ../scripts/test_basic.py -v --junitxml=\"report1_test.xml\""
   ]
  }
 ],
 "metadata": {
  "kernelspec": {
   "display_name": "torch",
   "language": "python",
   "name": "python3"
  },
  "language_info": {
   "codemirror_mode": {
    "name": "ipython",
    "version": 3
   },
   "file_extension": ".py",
   "mimetype": "text/x-python",
   "name": "python",
   "nbconvert_exporter": "python",
   "pygments_lexer": "ipython3",
   "version": "3.10.9"
  },
  "orig_nbformat": 4
 },
 "nbformat": 4,
 "nbformat_minor": 2
}
