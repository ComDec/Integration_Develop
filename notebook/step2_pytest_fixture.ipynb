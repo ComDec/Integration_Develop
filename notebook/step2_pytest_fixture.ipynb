{
 "cells": [
  {
   "attachments": {},
   "cell_type": "markdown",
   "metadata": {},
   "source": [
    "# pytest fixture的作用\n",
    "fixture的作用是提供一个可靠的、可重用的函数，用于为测试准备所需的资源或状态。"
   ]
  },
  {
   "attachments": {},
   "cell_type": "markdown",
   "metadata": {},
   "source": [
    "## 定义fixture"
   ]
  },
  {
   "cell_type": "code",
   "execution_count": 8,
   "metadata": {},
   "outputs": [],
   "source": [
    "import pytest, ipytest\n",
    "ipytest.autoconfig();\n",
    "\n",
    "@pytest.fixture\n",
    "def input_value():\n",
    "  input = 39\n",
    "  return input"
   ]
  },
  {
   "attachments": {},
   "cell_type": "markdown",
   "metadata": {},
   "source": [
    "## 使用fixture"
   ]
  },
  {
   "attachments": {},
   "cell_type": "markdown",
   "metadata": {},
   "source": [
    "在测试函数或类中将fixture名作为参数输入,pytest会先调用它并传入返回值:"
   ]
  },
  {
   "cell_type": "code",
   "execution_count": 12,
   "metadata": {},
   "outputs": [
    {
     "name": "stdout",
     "output_type": "stream",
     "text": [
      "\u001b[32m.\u001b[0m\u001b[32m                                                                                            [100%]\u001b[0m\n",
      "\u001b[32m\u001b[32m\u001b[1m1 passed\u001b[0m\u001b[32m in 0.00s\u001b[0m\u001b[0m\n"
     ]
    }
   ],
   "source": [
    "%%ipytest\n",
    "def test_divisible_by_3(input_value):\n",
    "    assert input_value % 3 == 0"
   ]
  },
  {
   "attachments": {},
   "cell_type": "markdown",
   "metadata": {},
   "source": [
    "也可以在类中使用:"
   ]
  },
  {
   "cell_type": "code",
   "execution_count": 16,
   "metadata": {},
   "outputs": [
    {
     "name": "stdout",
     "output_type": "stream",
     "text": [
      "\u001b[32m.\u001b[0m\u001b[32m                                                                                            [100%]\u001b[0m\n",
      "\u001b[32m\u001b[32m\u001b[1m1 passed\u001b[0m\u001b[32m in 0.00s\u001b[0m\u001b[0m\n"
     ]
    }
   ],
   "source": [
    "%%ipytest\n",
    "\n",
    "@pytest.mark.usefixtures(\"input_value\")\n",
    "class TestClass:\n",
    "  def test_1(self, input_value):\n",
    "    assert input_value % 3 == 0"
   ]
  },
  {
   "attachments": {},
   "cell_type": "markdown",
   "metadata": {},
   "source": [
    "## Autouse\n",
    "Autouse主要适用于如下几个场景：\n",
    "1. 设置全局测试固定的数据或状态\n",
    "2. 执行测试前的准备工作或后续清理工作\n",
    "3. 为所有测试加载配置文件\n",
    "4. 实现类似unittest中的setUp/tearDown功能\n",
    "\n",
    "简单来说,当你需要一个fixture在所有测试中全局可用时,就可以考虑设置autouse=True,这可以减少重复代码。"
   ]
  },
  {
   "cell_type": "code",
   "execution_count": 17,
   "metadata": {},
   "outputs": [],
   "source": [
    "@pytest.fixture(autouse=True)\n",
    "def global_fixture():\n",
    "  return 42"
   ]
  },
  {
   "cell_type": "code",
   "execution_count": 18,
   "metadata": {},
   "outputs": [
    {
     "name": "stdout",
     "output_type": "stream",
     "text": [
      "\u001b[32m.\u001b[0m\u001b[32m                                                                                            [100%]\u001b[0m\n",
      "\u001b[32m\u001b[32m\u001b[1m1 passed\u001b[0m\u001b[32m in 0.00s\u001b[0m\u001b[0m\n"
     ]
    }
   ],
   "source": [
    "%%ipytest\n",
    "def test_fixture(global_fixture):\n",
    "  assert global_fixture == 42"
   ]
  },
  {
   "cell_type": "code",
   "execution_count": 19,
   "metadata": {},
   "outputs": [
    {
     "name": "stdout",
     "output_type": "stream",
     "text": [
      "\u001b[32m.\u001b[0m\u001b[32m                                                                                            [100%]\u001b[0m\n",
      "\u001b[32m\u001b[32m\u001b[1m1 passed\u001b[0m\u001b[32m in 0.00s\u001b[0m\u001b[0m\n"
     ]
    }
   ],
   "source": [
    "%%ipytest\n",
    "class TestClass2:\n",
    "  def test_1(self, global_fixture):\n",
    "    assert global_fixture == 42"
   ]
  },
  {
   "attachments": {},
   "cell_type": "markdown",
   "metadata": {},
   "source": [
    "### 参数化测试"
   ]
  },
  {
   "cell_type": "code",
   "execution_count": 20,
   "metadata": {},
   "outputs": [
    {
     "name": "stdout",
     "output_type": "stream",
     "text": [
      "\u001b[32m.\u001b[0m\u001b[32m.\u001b[0m\u001b[31mF\u001b[0m\u001b[32m.\u001b[0m\u001b[31m                                                                                         [100%]\u001b[0m\n",
      "============================================= FAILURES =============================================\n",
      "\u001b[31m\u001b[1m___________________________________ test_multiplication_11[3-35] ___________________________________\u001b[0m\n",
      "\n",
      "num = 3, output = 35\n",
      "\n",
      "    \u001b[37m@pytest\u001b[39;49;00m.mark.parametrize(\u001b[33m\"\u001b[39;49;00m\u001b[33mnum, output\u001b[39;49;00m\u001b[33m\"\u001b[39;49;00m,[(\u001b[94m1\u001b[39;49;00m,\u001b[94m11\u001b[39;49;00m),(\u001b[94m2\u001b[39;49;00m,\u001b[94m22\u001b[39;49;00m),(\u001b[94m3\u001b[39;49;00m,\u001b[94m35\u001b[39;49;00m),(\u001b[94m4\u001b[39;49;00m,\u001b[94m44\u001b[39;49;00m)])\u001b[90m\u001b[39;49;00m\n",
      "    \u001b[94mdef\u001b[39;49;00m \u001b[92mtest_multiplication_11\u001b[39;49;00m(num, output):\u001b[90m\u001b[39;49;00m\n",
      ">      \u001b[94massert\u001b[39;49;00m \u001b[94m11\u001b[39;49;00m*num == output\u001b[90m\u001b[39;49;00m\n",
      "\u001b[1m\u001b[31mE      assert (11 * 3) == 35\u001b[0m\n",
      "\n",
      "\u001b[1m\u001b[31m/tmp/ipykernel_1396625/2727929538.py\u001b[0m:3: AssertionError\n",
      "\u001b[36m\u001b[1m===================================== short test summary info ======================================\u001b[0m\n",
      "\u001b[31mFAILED\u001b[0m t_5d37730921d9411e8c977a43a0b50f5a.py::\u001b[1mtest_multiplication_11[3-35]\u001b[0m - assert (11 * 3) == 35\n",
      "\u001b[31m\u001b[31m\u001b[1m1 failed\u001b[0m, \u001b[32m3 passed\u001b[0m\u001b[31m in 0.01s\u001b[0m\u001b[0m\n"
     ]
    }
   ],
   "source": [
    "%%ipytest\n",
    "\n",
    "@pytest.mark.parametrize(\"num, output\",[(1,11),(2,22),(3,35),(4,44)])\n",
    "def test_multiplication_11(num, output):\n",
    "   assert 11*num == output"
   ]
  }
 ],
 "metadata": {
  "kernelspec": {
   "display_name": "torch",
   "language": "python",
   "name": "python3"
  },
  "language_info": {
   "codemirror_mode": {
    "name": "ipython",
    "version": 3
   },
   "file_extension": ".py",
   "mimetype": "text/x-python",
   "name": "python",
   "nbconvert_exporter": "python",
   "pygments_lexer": "ipython3",
   "version": "3.10.9"
  },
  "orig_nbformat": 4
 },
 "nbformat": 4,
 "nbformat_minor": 2
}
