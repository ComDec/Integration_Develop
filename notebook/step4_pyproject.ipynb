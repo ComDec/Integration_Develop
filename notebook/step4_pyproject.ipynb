{
 "cells": [
  {
   "attachments": {},
   "cell_type": "markdown",
   "metadata": {},
   "source": [
    "# Configuring setuptools via pyproject.toml"
   ]
  },
  {
   "attachments": {},
   "cell_type": "markdown",
   "metadata": {},
   "source": [
    "Starting with PEP 621, the Python community selected pyproject.toml as a standard way of specifying project metadata. Setuptools has adopted this standard and will use the information contained in this file as an input in the build process."
   ]
  },
  {
   "attachments": {},
   "cell_type": "markdown",
   "metadata": {},
   "source": [
    "简单来说，pyproject.toml是Python新的用于构建项目的标准；同时pyproject也做到了向下兼容，若需要`setup.py`文件，则如下写入即可："
   ]
  },
  {
   "cell_type": "code",
   "execution_count": null,
   "metadata": {},
   "outputs": [],
   "source": [
    "from setuptools import setup\n",
    "\n",
    "setup()"
   ]
  },
  {
   "attachments": {},
   "cell_type": "markdown",
   "metadata": {},
   "source": [
    "一个`pyproject.toml`包含两个主要部分：`build-system` and `project`："
   ]
  },
  {
   "attachments": {},
   "cell_type": "markdown",
   "metadata": {},
   "source": [
    "```\n",
    "[build-system]\n",
    "build-backend = \"setuptools.build_meta\"\n",
    "requires = [\n",
    "  \"setuptools\",\n",
    "  \"setuptools-scm\",\n",
    "]\n",
    "\n",
    "[project]\n",
    "name = \"deepprotein\"\n",
    "description = \"General Framework for Deep Learning on Macro Molecules\"\n",
    "readme = \"README.md\"\n",
    "keywords = [\n",
    "  \"Deep Learning\",\n",
    "  \"Macro Molecules\",\n",
    "  \"Protein\",\n",
    "  \"RNA\",\n",
    "]\n",
    "license = {file = \"LICENSE\"}\n",
    "maintainers = [\n",
    "    {name = \"Zhiyuan Chen\", email = \"chenzhiyuan@dp.tech\"},\n",
    "]\n",
    "authors = [\n",
    "    {name = \"Zhiyuan Chen\", email = \"chenzhiyuan@dp.tech\"},\n",
    "    {name = \"Lvjun Guo\", email = \"guolj@dp.tech\"},\n",
    "]\n",
    "requires-python = \">=3\"\n",
    "classifiers = [\n",
    "  \"Development Status :: 2 - Pre-Alpha\",\n",
    "  \"Intended Audience :: Developers\",\n",
    "  \"Intended Audience :: Education\",\n",
    "  \"Intended Audience :: Science/Research\",\n",
    "  \"Operating System :: OS Independent\",\n",
    "  \"Programming Language :: Python :: 3 :: Only\",\n",
    "  \"Programming Language :: Python :: 3.7\",\n",
    "  \"Programming Language :: Python :: 3.8\",\n",
    "  \"Programming Language :: Python :: 3.9\",\n",
    "  \"Programming Language :: Python :: 3.10\",\n",
    "  \"Programming Language :: Python :: 3.11\",\n",
    "  \"Topic :: Scientific/Engineering :: Artificial Intelligence\",\n",
    "]\n",
    "dynamic = [\n",
    "  \"version\",\n",
    "]\n",
    "dependencies = [\n",
    "  \"accelerate\",\n",
    "  \"chanfig>=0.0.88\",\n",
    "  \"danling>=0.2.14\",\n",
    "  \"einops\",\n",
    "  \"numpy\",\n",
    "  \"pandas==2.*\",\n",
    "  \"torch\",\n",
    "  \"torcheval\",\n",
    "  \"torchmetrics\",\n",
    "  \"transformers\",\n",
    "]\n",
    "[project.urls]\n",
    "documentation = \"https://danling.org\"\n",
    "homepage = \"https://danling.org\"\n",
    "repository = \"https://git.de.tech/macromolecule/deepprotein\"\n",
    "\n",
    "[tool.setuptools]\n",
    "packages = [\"deepprotein\"]\n",
    "\n",
    "[tool.setuptools_scm]\n",
    "write_to = \"deepprotein/_version.py\"\n",
    "write_to_template = \"version = __version__ = {version!r}\\nversion_tuple = __version_tuple__ = {version_tuple!r}\\nrevision = __revision__ = {scm_version.node!r}\\n\"\n",
    "\n",
    "[tool.black]\n",
    "line-length = 120\n",
    "\n",
    "[tool.isort]\n",
    "line_length = 120\n",
    "profile = \"black\"\n",
    "\n",
    "[tool.flake8]\n",
    "max-line-length = 120\n",
    "\n",
    "[tool.pytest.ini_options]\n",
    "addopts = \"--doctest-modules --cov\"\n",
    "\n",
    "[tool.coverage.run]\n",
    "branch = true\n",
    "omit = [\"tests/*\", \"setup.py\"]\n",
    "\n",
    "[tool.coverage.paths]\n",
    "source = [\"chanfig\"]\n",
    "\n",
    "[tool.coverage.xml]\n",
    "output = \"coverage.xml\"\n",
    "\n",
    "[tool.coverage.json]\n",
    "output = \"coverage.json\"\n",
    "\n",
    "[tool.coverage.report]\n",
    "show_missing = true\n",
    "fail_under = 60\n",
    "\n",
    "[tool.mypy]\n",
    "ignore_missing_imports = true\n",
    "\n",
    "[tool.pylint.format]\n",
    "max-line-length = 120\n",
    "\n",
    "[tool.pylint.messages_control]\n",
    "disable = \"\"\"\n",
    "  C0114,\n",
    "  C0115,\n",
    "  C0116,\n",
    "  E0012,\n",
    "  E0401,\n",
    "  R0201,\n",
    "  R0801,\n",
    "\"\"\"\n",
    "\n",
    "[tool.pylint.reports]\n",
    "output-format = \"colorized\"\n",
    "\n",
    "[tool.pylint.main]\n",
    "fail-under = 9.8\n"
   ]
  },
  {
   "attachments": {},
   "cell_type": "markdown",
   "metadata": {},
   "source": [
    "现在让我们逐行分解上面的`pyproject.toml`文件。"
   ]
  },
  {
   "attachments": {},
   "cell_type": "markdown",
   "metadata": {},
   "source": [
    "## [build-system]"
   ]
  },
  {
   "attachments": {},
   "cell_type": "markdown",
   "metadata": {},
   "source": [
    "* build-backend = \"setuptools.build_meta\"\n",
    "    \n",
    "    Specifies the build backend. Here, setuptools.build_meta is used, which is a PEP 517 compliant backend.\n",
    "\n",
    "* requires = [...]\n",
    "\n",
    "    List the packages for build-system. By default, you need to add `setuptools`, for dynamic versioning, `setuptools-scm` is required."
   ]
  },
  {
   "attachments": {},
   "cell_type": "markdown",
   "metadata": {},
   "source": [
    "## [project]"
   ]
  },
  {
   "attachments": {},
   "cell_type": "markdown",
   "metadata": {},
   "source": [
    "* name = \"deepprotein\"\n",
    "\n",
    "    The name of the project.\n",
    "\n",
    "* description = \"General Framework for Deep Learning on Macro Molecules\"\n",
    "\n",
    "    A brief description of the project.\n",
    "\n",
    "* readme = \"README.md\"\n",
    "\n",
    "    Specifies the README file.\n",
    "\n",
    "* keywords = [...] \n",
    "\n",
    "    Keywords related to the project.\n",
    "\n",
    "* license = {file = \"LICENSE\"}\n",
    "\n",
    "    Specifies the license file.\n",
    "\n",
    "* maintainers = [...]\n",
    "\n",
    "    Lists the maintainers with their email addresses.\n",
    "\n",
    "* authors = [...] \n",
    "\n",
    "    Lists the authors with their email addresses.\n",
    "\n",
    "* requires-python = \">=3\"\n",
    "\n",
    "    Specifies the Python version requirement.\n",
    "\n",
    "* classifiers = [...]\n",
    "\n",
    "    Classifiers to describe the project.\n",
    "\n",
    "* dynamic = [\"version\"]\n",
    "\n",
    "    Specifies fields that are dynamically determined."
   ]
  },
  {
   "attachments": {},
   "cell_type": "markdown",
   "metadata": {},
   "source": [
    "For `dependencies`, we have two different methods to import packages."
   ]
  },
  {
   "attachments": {},
   "cell_type": "markdown",
   "metadata": {},
   "source": [
    "1. via package names:\n",
    "\n",
    "```python\n",
    "dependencies = [\n",
    "  \"accelerate\",\n",
    "  \"chanfig>=0.0.88\",\n",
    "  \"danling>=0.2.14\",\n",
    "  \"einops\",\n",
    "  \"numpy\",\n",
    "  \"pandas==2.*\",\n",
    "  \"torch\",\n",
    "  \"torcheval\",\n",
    "  \"torchmetrics\",\n",
    "  \"transformers\",\n",
    "]\n",
    "```\n",
    "\n",
    "2. via requirements file:\n",
    "\n",
    "```python\n",
    "dependencies = [\n",
    "    \"-r requirements.txt\" \n",
    "]\n",
    "```"
   ]
  },
  {
   "attachments": {},
   "cell_type": "markdown",
   "metadata": {},
   "source": [
    "[project.urls]\n",
    "\n",
    "* documentation, homepage, repository\n",
    "\n",
    "    URLs for documentation, homepage, and repository."
   ]
  },
  {
   "attachments": {},
   "cell_type": "markdown",
   "metadata": {},
   "source": [
    "## [tool]"
   ]
  },
  {
   "attachments": {},
   "cell_type": "markdown",
   "metadata": {},
   "source": [
    "[tool] is another vital metadata for `pyproject.toml`, including configuration of serval analytic tools like black, isort, coverage etc."
   ]
  },
  {
   "attachments": {},
   "cell_type": "markdown",
   "metadata": {},
   "source": [
    "[tool.setuptools]\n",
    "\n",
    "* packages = [\"deepprotein\"]\n",
    "\n",
    "    Specifies the Python packages included in the distribution.\n",
    "\n",
    "[tool.setuptools_scm]\n",
    "\n",
    "* write_to, write_to_template\n",
    "\n",
    "    Configuration for writing version information.\n",
    "\n",
    "[tool.black], [tool.isort], [tool.flake8]\n",
    "\n",
    "* line-length, profile, max-line-length \n",
    "\n",
    "    Code formatting and linting configurations.\n",
    "\n",
    "[tool.pytest.ini_options]\n",
    "\n",
    "* addopts = \"--doctest-modules --cov\"\n",
    "\n",
    "    Additional options for pytest."
   ]
  },
  {
   "attachments": {},
   "cell_type": "markdown",
   "metadata": {},
   "source": [
    "Here I wanna give more explanation of `coverage` tools.\n",
    "\n",
    "Coverage is a important tool for code quality control. Traditionally, we will use `coverage.start()` etc. functions to run coverage analysis. With `pytest-cover` package, you can intergate `coverage` into your `pyprojetc.toml` file."
   ]
  },
  {
   "attachments": {},
   "cell_type": "markdown",
   "metadata": {},
   "source": [
    "```toml\n",
    "[tool.coverage.run]\n",
    "branch = true\n",
    "omit = [\"setup.py\"]\n",
    "\n",
    "[tool.coverage.paths]\n",
    "source = [\"integration_develop\"]\n",
    "\n",
    "[tool.coverage.xml]\n",
    "output = \"coverage.xml\"\n",
    "\n",
    "[tool.coverage.json]\n",
    "output = \"coverage.json\"\n",
    "\n",
    "[tool.coverage.report]\n",
    "show_missing = true\n",
    "fail_under = 60\n",
    "```"
   ]
  },
  {
   "attachments": {},
   "cell_type": "markdown",
   "metadata": {},
   "source": [
    "For other tools, you can also configrue those like the above `toml` file."
   ]
  }
 ],
 "metadata": {
  "kernelspec": {
   "display_name": "torch",
   "language": "python",
   "name": "python3"
  },
  "language_info": {
   "name": "python",
   "version": "3.10.9"
  },
  "orig_nbformat": 4
 },
 "nbformat": 4,
 "nbformat_minor": 2
}
